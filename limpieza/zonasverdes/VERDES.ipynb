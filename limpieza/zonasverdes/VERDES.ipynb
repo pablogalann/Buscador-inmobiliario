{
 "cells": [
  {
   "cell_type": "code",
   "execution_count": 1,
   "id": "fd71a9ba",
   "metadata": {},
   "outputs": [],
   "source": [
    "import pandas as pd  # importación de pandas \n",
    "import numpy as np  # importacion de numpy \n",
    "\n",
    "pd.set_option('display.max_columns', None)  # mostrar todas las columnas del df \n",
    "pd.set_option('display.max_rows', None)   # mostrar todas las filas del df\n",
    "\n",
    "import warnings  # importacion de bloqueo de errores\n",
    "warnings.filterwarnings('ignore')\n",
    "\n",
    "import pylab as plt    # visualización\n",
    "import seaborn as sns    # visualización\n",
    "\n",
    "%matplotlib inline "
   ]
  },
  {
   "cell_type": "code",
   "execution_count": 11,
   "id": "687c3014",
   "metadata": {},
   "outputs": [],
   "source": [
    "zv = pd.read_csv(r'C:\\Users\\pablo\\8.0 Proyecto final\\limpieza\\zonasverdes\\tabla_zonasverdes_csv.csv', encoding='latin-1')"
   ]
  },
  {
   "cell_type": "code",
   "execution_count": 12,
   "id": "31c8eae4",
   "metadata": {},
   "outputs": [
    {
     "name": "stdout",
     "output_type": "stream",
     "text": [
      "<class 'pandas.core.frame.DataFrame'>\n",
      "RangeIndex: 619 entries, 0 to 618\n",
      "Data columns (total 8 columns):\n",
      " #   Column           Non-Null Count  Dtype \n",
      "---  ------           --------------  ----- \n",
      " 0   id_zonaverde     619 non-null    int64 \n",
      " 1   nombre_zv        619 non-null    object\n",
      " 2   barrio           619 non-null    object\n",
      " 3   id_barrio        619 non-null    int64 \n",
      " 4   distrito         619 non-null    object\n",
      " 5   id_distrito      619 non-null    int64 \n",
      " 6   Superficie (m2)  619 non-null    object\n",
      " 7   Superficie (ha)  619 non-null    object\n",
      "dtypes: int64(3), object(5)\n",
      "memory usage: 38.8+ KB\n"
     ]
    }
   ],
   "source": [
    "zv.info()"
   ]
  },
  {
   "cell_type": "code",
   "execution_count": 4,
   "id": "68f2b322",
   "metadata": {},
   "outputs": [],
   "source": [
    "zv.rename(columns = { 'Nº Distrito':'id_distrito','BARRIO':'barrio',\n",
    "                      'DISTRITO':'distrito', 'PARQUES Y ZONAS VERDES DE DISTRITO CON MAYOR SUPERFICIE':'nombre_zv'}, inplace = True)"
   ]
  },
  {
   "cell_type": "code",
   "execution_count": 5,
   "id": "5995ee1d",
   "metadata": {},
   "outputs": [
    {
     "data": {
      "text/plain": [
       "(619, 6)"
      ]
     },
     "execution_count": 5,
     "metadata": {},
     "output_type": "execute_result"
    }
   ],
   "source": [
    "zv.shape"
   ]
  },
  {
   "cell_type": "code",
   "execution_count": 8,
   "id": "7303bab0",
   "metadata": {},
   "outputs": [
    {
     "data": {
      "text/html": [
       "<div>\n",
       "<style scoped>\n",
       "    .dataframe tbody tr th:only-of-type {\n",
       "        vertical-align: middle;\n",
       "    }\n",
       "\n",
       "    .dataframe tbody tr th {\n",
       "        vertical-align: top;\n",
       "    }\n",
       "\n",
       "    .dataframe thead th {\n",
       "        text-align: right;\n",
       "    }\n",
       "</style>\n",
       "<table border=\"1\" class=\"dataframe\">\n",
       "  <thead>\n",
       "    <tr style=\"text-align: right;\">\n",
       "      <th></th>\n",
       "      <th>id_distrito</th>\n",
       "      <th>distrito</th>\n",
       "      <th>barrio</th>\n",
       "      <th>nombre_zv</th>\n",
       "      <th>Superficie (m2)</th>\n",
       "      <th>Superficie (ha)</th>\n",
       "    </tr>\n",
       "  </thead>\n",
       "  <tbody>\n",
       "    <tr>\n",
       "      <th>0</th>\n",
       "      <td>1</td>\n",
       "      <td>CENTRO</td>\n",
       "      <td>PALACIO</td>\n",
       "      <td>PARQUE DE ATENAS</td>\n",
       "      <td>46.569,03</td>\n",
       "      <td>4,66</td>\n",
       "    </tr>\n",
       "    <tr>\n",
       "      <th>1</th>\n",
       "      <td>1</td>\n",
       "      <td>CENTRO</td>\n",
       "      <td>CORTES</td>\n",
       "      <td>Pº PRADO I</td>\n",
       "      <td>35.327,59</td>\n",
       "      <td>3,53</td>\n",
       "    </tr>\n",
       "    <tr>\n",
       "      <th>2</th>\n",
       "      <td>1</td>\n",
       "      <td>CENTRO</td>\n",
       "      <td>PALACIO</td>\n",
       "      <td>PARQUE DE LA CORNISA</td>\n",
       "      <td>22.633,04</td>\n",
       "      <td>2,26</td>\n",
       "    </tr>\n",
       "    <tr>\n",
       "      <th>3</th>\n",
       "      <td>1</td>\n",
       "      <td>CENTRO</td>\n",
       "      <td>EMBAJADORES</td>\n",
       "      <td>PARQUE CASINO DE LA REINA</td>\n",
       "      <td>19.858,92</td>\n",
       "      <td>1,99</td>\n",
       "    </tr>\n",
       "    <tr>\n",
       "      <th>4</th>\n",
       "      <td>1</td>\n",
       "      <td>CENTRO</td>\n",
       "      <td>JUSTICIA</td>\n",
       "      <td>Pº DE RECOLETOS I</td>\n",
       "      <td>19.440,71</td>\n",
       "      <td>1,94</td>\n",
       "    </tr>\n",
       "  </tbody>\n",
       "</table>\n",
       "</div>"
      ],
      "text/plain": [
       "   id_distrito distrito       barrio                  nombre_zv  \\\n",
       "0            1   CENTRO      PALACIO           PARQUE DE ATENAS   \n",
       "1            1   CENTRO       CORTES                 Pº PRADO I   \n",
       "2            1   CENTRO      PALACIO       PARQUE DE LA CORNISA   \n",
       "3            1   CENTRO  EMBAJADORES  PARQUE CASINO DE LA REINA   \n",
       "4            1   CENTRO     JUSTICIA          Pº DE RECOLETOS I   \n",
       "\n",
       "  Superficie (m2) Superficie (ha)  \n",
       "0       46.569,03            4,66  \n",
       "1       35.327,59            3,53  \n",
       "2       22.633,04            2,26  \n",
       "3       19.858,92            1,99  \n",
       "4       19.440,71            1,94  "
      ]
     },
     "execution_count": 8,
     "metadata": {},
     "output_type": "execute_result"
    }
   ],
   "source": [
    "zv.head()"
   ]
  },
  {
   "cell_type": "code",
   "execution_count": 6,
   "id": "b07101b5",
   "metadata": {},
   "outputs": [
    {
     "data": {
      "text/plain": [
       "array(['PALACIO', 'CORTES', 'EMBAJADORES', 'JUSTICIA', 'LEGAZPI',\n",
       "       'ACACIAS', 'DELICIAS', 'ATOCHA', 'IMPERIAL', 'ESTRELLA', 'ADELFAS',\n",
       "       'LOS JERONIMOS', 'PACIFICO', 'GUINDALERA', 'FUENTE DEL BERRO',\n",
       "       'CASTELLANA', 'RECOLETOS', 'EL VISO', 'CIUDAD JARDIN', 'CASTILLA',\n",
       "       'PROSPERIDAD', 'NUEVA ESPAÑA', 'HISPANOAMERICA', 'VALDEACEDERAS',\n",
       "       'ALMENARA', 'CUATRO CAMINOS', 'CASTILLEJOS', 'ALMAGRO',\n",
       "       'RIOS ROSAS', 'VALLEHERMOSO', 'TRAFALGAR', 'ARAPILES',\n",
       "       'GAZTAMBIDE', 'EL GOLOSO', 'LA PAZ', 'VALVERDE', 'EL PILAR',\n",
       "       'MIRASIERRA', 'PEÑA GRANDE', 'EL PARDO', 'ARAVACA',\n",
       "       'CASA DE CAMPO', 'CIUDAD UNIVERSITARIA', 'VALDEZARZA',\n",
       "       'VALDEMARIN', 'ARGUELLES', 'EL PLANTIO', 'LOS CARMENES',\n",
       "       'LAS AGUILAS', 'CUATRO VIENTOS', 'ALUCHE', 'CAMPAMENTO', 'LUCERO',\n",
       "       'PUERTA DEL ANGEL', 'ABRANTES', 'SAN ISIDRO', 'BUENAVISTA',\n",
       "       'PUERTA BONITA', 'VISTA ALEGRE', 'COMILLAS', 'OPAÑEL',\n",
       "       'PRADOLONGO', 'ORCASITAS', 'ZOFIO', 'ORCASUR', 'MOSCARDO',\n",
       "       'SAN FERMIN', 'ALMENDRALES', 'ENTREVIAS', 'PALOMERAS SURESTE',\n",
       "       'NUMANCIA', 'PORTAZGO', 'PALOMERAS BAJAS', 'SAN DIEGO', 'PAVONES',\n",
       "       'FONTARRON', 'MARROQUINA', 'HORCAJO', 'VINATEROS', 'MEDIA LEGUA',\n",
       "       'VENTAS', 'COSTILLARES', 'CONCEPCION', 'PUEBLO NUEVO',\n",
       "       'SAN JUAN BAUTISTA', 'COLINA', 'ATALAYA', 'SAN PASCUAL', 'PIOVERA',\n",
       "       'VALDEFUENTES', 'PINAR DEL REY', 'APOSTOL SANTIAGO', 'CANILLAS',\n",
       "       'PALOMAS', 'VILLAVERDE ALTO C.H.', 'SAN CRISTOBAL', 'BUTARQUE',\n",
       "       'LOS ROSALES', 'LOS ANGELES', 'CASCO H.VALLECAS',\n",
       "       'ENSANCHE DE VALLECAS', 'SANTA EUGENIA', 'CASCO H.VICALVARO',\n",
       "       'VALDEBERNARDO', 'EL CAÑAVERAL', 'VALDERRIVAS', 'HELLIN', 'REJAS',\n",
       "       'EL SALVADOR', 'ROSAS', 'ARCOS', 'SIMANCAS', 'AMPOSTA',\n",
       "       'CANILLEJAS', 'ALAMEDA DE OSUNA', 'TIMON', 'CORRALEJOS'],\n",
       "      dtype=object)"
      ]
     },
     "execution_count": 6,
     "metadata": {},
     "output_type": "execute_result"
    }
   ],
   "source": [
    "zv.barrio.unique()"
   ]
  },
  {
   "cell_type": "code",
   "execution_count": 7,
   "id": "a948ddf2",
   "metadata": {},
   "outputs": [
    {
     "ename": "NameError",
     "evalue": "name 'id_barrio' is not defined",
     "output_type": "error",
     "traceback": [
      "\u001b[1;31m---------------------------------------------------------------------------\u001b[0m",
      "\u001b[1;31mNameError\u001b[0m                                 Traceback (most recent call last)",
      "Input \u001b[1;32mIn [7]\u001b[0m, in \u001b[0;36m<cell line: 1>\u001b[1;34m()\u001b[0m\n\u001b[1;32m----> 1\u001b[0m \u001b[38;5;28mlen\u001b[39m(\u001b[43mid_barrio\u001b[49m)\n",
      "\u001b[1;31mNameError\u001b[0m: name 'id_barrio' is not defined"
     ]
    }
   ],
   "source": [
    "len(id_barrio)"
   ]
  },
  {
   "cell_type": "code",
   "execution_count": null,
   "id": "43db44cb",
   "metadata": {},
   "outputs": [],
   "source": [
    "zv['id_barrio']= id_barrio"
   ]
  },
  {
   "cell_type": "markdown",
   "id": "b0c3d785",
   "metadata": {},
   "source": [
    "### ORDENAR POR "
   ]
  },
  {
   "cell_type": "code",
   "execution_count": null,
   "id": "6b02651f",
   "metadata": {},
   "outputs": [],
   "source": [
    "zv.sort_values('id_distrito',inplace = True)"
   ]
  },
  {
   "cell_type": "code",
   "execution_count": null,
   "id": "8a76a4f1",
   "metadata": {},
   "outputs": [],
   "source": [
    "zv.head()"
   ]
  },
  {
   "cell_type": "markdown",
   "id": "42de84cd",
   "metadata": {},
   "source": []
  },
  {
   "cell_type": "markdown",
   "id": "8e2e037b",
   "metadata": {},
   "source": [
    "### REINDEXAMOS"
   ]
  },
  {
   "cell_type": "code",
   "execution_count": null,
   "id": "1cf2f74c",
   "metadata": {},
   "outputs": [],
   "source": [
    "zv.reset_index(drop=True, inplace=True)"
   ]
  },
  {
   "cell_type": "code",
   "execution_count": null,
   "id": "6ea19cf6",
   "metadata": {},
   "outputs": [],
   "source": [
    "zv.head()"
   ]
  },
  {
   "cell_type": "markdown",
   "id": "451b59e2",
   "metadata": {},
   "source": [
    "### NUEVO ID_MERCADO"
   ]
  },
  {
   "cell_type": "code",
   "execution_count": null,
   "id": "d56a89d5",
   "metadata": {},
   "outputs": [],
   "source": [
    "id_zonaverde = []\n",
    "\n",
    "for i in zv.index:\n",
    "    id_zonaverde.append(i)\n",
    "\n",
    "print(id_zonaverde)"
   ]
  },
  {
   "cell_type": "code",
   "execution_count": null,
   "id": "38a9402b",
   "metadata": {},
   "outputs": [],
   "source": [
    "zv['id_zonaverde']=id_zonaverde"
   ]
  },
  {
   "cell_type": "code",
   "execution_count": null,
   "id": "c2e9b86d",
   "metadata": {},
   "outputs": [],
   "source": [
    "new_cols = [ 'id_zonaverde','nombre_zv', 'barrio', 'id_barrio', 'distrito', 'id_distrito',\n",
    "       'Superficie (m2)', 'Superficie (ha)']"
   ]
  },
  {
   "cell_type": "code",
   "execution_count": null,
   "id": "a07640af",
   "metadata": {},
   "outputs": [],
   "source": [
    "zv = zv[new_cols]\n",
    "zv"
   ]
  },
  {
   "cell_type": "code",
   "execution_count": null,
   "id": "2aa8c197",
   "metadata": {},
   "outputs": [],
   "source": []
  },
  {
   "cell_type": "code",
   "execution_count": null,
   "id": "2bcc29bb",
   "metadata": {},
   "outputs": [],
   "source": [
    "zv.head(25)"
   ]
  },
  {
   "cell_type": "markdown",
   "id": "f1ae8dd7",
   "metadata": {},
   "source": [
    "### EXPORTAR A CSV"
   ]
  },
  {
   "cell_type": "code",
   "execution_count": null,
   "id": "fe291132",
   "metadata": {},
   "outputs": [],
   "source": [
    "zv.to_csv('tabla_zonasverdes_csv.csv', encoding='utf-8',index = False)"
   ]
  },
  {
   "cell_type": "code",
   "execution_count": null,
   "id": "c27e3eb5",
   "metadata": {},
   "outputs": [],
   "source": []
  }
 ],
 "metadata": {
  "kernelspec": {
   "display_name": "Python 3 (ipykernel)",
   "language": "python",
   "name": "python3"
  },
  "language_info": {
   "codemirror_mode": {
    "name": "ipython",
    "version": 3
   },
   "file_extension": ".py",
   "mimetype": "text/x-python",
   "name": "python",
   "nbconvert_exporter": "python",
   "pygments_lexer": "ipython3",
   "version": "3.9.12"
  }
 },
 "nbformat": 4,
 "nbformat_minor": 5
}
